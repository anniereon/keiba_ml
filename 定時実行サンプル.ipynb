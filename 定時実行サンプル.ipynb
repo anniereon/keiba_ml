{
 "cells": [
  {
   "cell_type": "code",
   "execution_count": 1,
   "id": "f4921794-0865-4b8f-b7dc-e8da59a58380",
   "metadata": {},
   "outputs": [
    {
     "name": "stdout",
     "output_type": "stream",
     "text": [
      "Requirement already satisfied: APScheduler in c:\\users\\ryo\\anaconda3\\lib\\site-packages (3.11.0)\n",
      "Requirement already satisfied: tzlocal>=3.0 in c:\\users\\ryo\\anaconda3\\lib\\site-packages (from APScheduler) (5.3.1)\n",
      "Requirement already satisfied: tzdata in c:\\users\\ryo\\anaconda3\\lib\\site-packages (from tzlocal>=3.0->APScheduler) (2023.3)\n"
     ]
    }
   ],
   "source": [
    "# !pip install APScheduler\n",
    "from apscheduler.schedulers.blocking import BlockingScheduler\n",
    "from datetime import datetime\n",
    "import sys\n",
    "import threading"
   ]
  },
  {
   "cell_type": "code",
   "execution_count": 5,
   "id": "005e30af-c31a-4cfc-b065-8b9128fcc9e6",
   "metadata": {},
   "outputs": [
    {
     "name": "stdout",
     "output_type": "stream",
     "text": [
      "スケジューラ開始\n",
      "[2025-10-18 13:14:00.011002] ▶ タスク実行！\n",
      "[2025-10-18 13:15:00.013139] ▶ 終了タスク実行 → スクリプト終了\n",
      "実験\n"
     ]
    }
   ],
   "source": [
    "\n",
    "scheduler = BlockingScheduler()\n",
    "\n",
    "# タスク1：指定時刻に実行する処理\n",
    "def my_task():\n",
    "    print(f\"[{datetime.now()}] ▶ タスク実行！\")\n",
    "\n",
    "# タスク2：終了用の処理\n",
    "\n",
    "def shutdown_task():\n",
    "    print(f\"[{datetime.now()}] ▶ 終了タスク実行 → スクリプト終了\")\n",
    "    # 0.1秒遅らせて別スレッドでシャットダウンを呼ぶ\n",
    "    threading.Timer(0.1, scheduler.shutdown).start()\n",
    "\n",
    "# タスク登録（好きな時刻に変更OK）\n",
    "scheduler.add_job(my_task, 'date', run_date='2025-10-18 13:14:00')\n",
    "scheduler.add_job(shutdown_task, 'date', run_date='2025-10-18 13:15:00')\n",
    "\n",
    "print(\"スケジューラ開始\")\n",
    "try:\n",
    "    scheduler.start()\n",
    "    print(\"すべての処理を終了します\")\n",
    "except (KeyboardInterrupt, SystemExit):\n",
    "    print(\"手動で終了しました\")\n"
   ]
  }
 ],
 "metadata": {
  "kernelspec": {
   "display_name": "Python [conda env:base] *",
   "language": "python",
   "name": "conda-base-py"
  },
  "language_info": {
   "codemirror_mode": {
    "name": "ipython",
    "version": 3
   },
   "file_extension": ".py",
   "mimetype": "text/x-python",
   "name": "python",
   "nbconvert_exporter": "python",
   "pygments_lexer": "ipython3",
   "version": "3.12.7"
  }
 },
 "nbformat": 4,
 "nbformat_minor": 5
}
