{
 "cells": [
  {
   "cell_type": "code",
   "execution_count": 47,
   "id": "49b3c4c4-fd95-46a5-bd77-a468473f28e9",
   "metadata": {},
   "outputs": [],
   "source": [
    "# 1.目的\n",
    "# 予想脚質がゴール直近の通貨順位に対してどのくらい正確なのか調べたい\n",
    "# （正確なのであれば、例えば予想脚質が\"逃げ\"ならゴール直前の通貨順位は小さいはず）\n",
    "# 2.やったこと\n",
    "# XGBoostを使う。目的変数を通過順位とし、説明変数を予想脚質として予測したときの精度を調べる\n",
    "# 3.考察\n",
    "# 例えば予想脚質が追込である馬が8頭中6頭いて6頭が後方にいたとしても、前から追込で3番目の馬がいることになる。\n",
    "# この場合を考慮すると予想の精度が低いと判断するのはおかしいので、本分析のやり方を見直した方がよさそう。"
   ]
  },
  {
   "cell_type": "code",
   "execution_count": 3,
   "id": "d764d16b-4e8b-4de5-bdef-be56cf8d492f",
   "metadata": {},
   "outputs": [],
   "source": [
    "# インポート\n",
    "import numpy as np\n",
    "import pandas as pd\n",
    "from sklearn.model_selection import train_test_split\n",
    "from sklearn.preprocessing import LabelEncoder\n",
    "import xgboost as xgb\n",
    "from sklearn.metrics import mean_squared_error, r2_score, accuracy_score, precision_score, recall_score, f1_score"
   ]
  },
  {
   "cell_type": "code",
   "execution_count": 9,
   "id": "57b00ec3-05c0-44ce-9a9b-61ed34c18e47",
   "metadata": {},
   "outputs": [],
   "source": [
    "# CSVファイルの読み込み\n",
    "# df = pd.read_csv('input3.csv', encoding='cp932')\n",
    "df = pd.read_csv('input3.csv', encoding='utf-8')"
   ]
  },
  {
   "cell_type": "code",
   "execution_count": 23,
   "id": "235e9a2e-53e4-4c54-926c-6eaafd80b6eb",
   "metadata": {},
   "outputs": [],
   "source": [
    "# style_nameはカテゴリ変数であり文字列だがそのまま使えないのでエンコーディングして数値に変換する"
   ]
  },
  {
   "cell_type": "code",
   "execution_count": 27,
   "id": "52df7b3b-d644-4897-9479-97eaa3490af8",
   "metadata": {},
   "outputs": [],
   "source": [
    "import pandas as pd\n",
    "\n",
    "# CSVファイルを読み込み（元のデータは変更しない）\n",
    "df = pd.read_csv('input3.csv', encoding='utf-8')\n",
    "\n",
    "# 明示的にマッピングする辞書を定義\n",
    "style_mapping = {\n",
    "    '逃げ': 1,\n",
    "    '先行': 2,\n",
    "    '差し': 3,\n",
    "    '追込': 4\n",
    "}\n",
    "# 新しい列 'style_encoded' を追加（元の 'style_name' 列はそのまま）\n",
    "df['style_encoded'] = df['style_name'].map(style_mapping)"
   ]
  },
  {
   "cell_type": "code",
   "execution_count": 29,
   "id": "cf25dd53-0b52-4789-8a8a-555d7a63758e",
   "metadata": {},
   "outputs": [],
   "source": [
    "# 回帰の場合→XGBRegressorを使う"
   ]
  },
  {
   "cell_type": "code",
   "execution_count": 39,
   "id": "fd444bda-0d02-4ce8-8160-2b2aadaf9bbd",
   "metadata": {},
   "outputs": [],
   "source": [
    "# 目的変数をposition_1にしてみる"
   ]
  },
  {
   "cell_type": "code",
   "execution_count": 45,
   "id": "3547a5f0-0df9-4ca7-86a0-ff007c213803",
   "metadata": {},
   "outputs": [
    {
     "name": "stdout",
     "output_type": "stream",
     "text": [
      "RMSE: 2.0136\n",
      "R^2 Score: 0.2265\n",
      "RMSE: 2.0154\n",
      "R^2 Score: 0.2247\n",
      "RMSE: 2.0676\n",
      "R^2 Score: 0.1927\n"
     ]
    }
   ],
   "source": [
    "# 説明変数\n",
    "x = df[[\"style_encoded\"]]\n",
    "# 目的変数\n",
    "y1 = df[\"position_1\"]\n",
    "y2 = df[\"position_2\"]\n",
    "y3 = df[\"position_3\"]\n",
    "# 学習データと検証データの分割（検証データ割合が0.500669344）\n",
    "x_train, x_test, y1_train, y1_test = train_test_split(x, y1, train_size=0.500669344, shuffle=False)\n",
    "x_train, x_test, y2_train, y2_test = train_test_split(x, y2, train_size=0.500669344, shuffle=False)\n",
    "x_train, x_test, y3_train, y3_test = train_test_split(x, y3, train_size=0.500669344, shuffle=False)\n",
    "# モデルの学習\n",
    "model1 = xgb.XGBRegressor(objective='reg:squarederror', max_depth=3, random_state=42)\n",
    "model1.fit(x_train, y1_train)\n",
    "model2 = xgb.XGBRegressor(objective='reg:squarederror', max_depth=3, random_state=42)\n",
    "model2.fit(x_train, y2_train)\n",
    "model3 = xgb.XGBRegressor(objective='reg:squarederror', max_depth=3, random_state=42)\n",
    "model3.fit(x_train, y3_train)\n",
    "# 予測\n",
    "y1_pred = model1.predict(x_test)\n",
    "y2_pred = model2.predict(x_test)\n",
    "y3_pred = model3.predict(x_test)\n",
    "# 評価\n",
    "rmse1 = np.sqrt(mean_squared_error(y1_test, y1_pred))\n",
    "r2_1 = r2_score(y1_test, y1_pred)\n",
    "print(f\"RMSE: {rmse1:.4f}\")\n",
    "print(f\"R^2 Score: {r2_1:.4f}\")\n",
    "rmse2 = np.sqrt(mean_squared_error(y2_test, y2_pred))\n",
    "r2_2 = r2_score(y2_test, y2_pred)\n",
    "print(f\"RMSE: {rmse2:.4f}\")\n",
    "print(f\"R^2 Score: {r2_2:.4f}\")\n",
    "rmse3 = np.sqrt(mean_squared_error(y3_test, y3_pred))\n",
    "r2_3 = r2_score(y3_test, y3_pred)\n",
    "print(f\"RMSE: {rmse3:.4f}\")\n",
    "print(f\"R^2 Score: {r2_3:.4f}\")"
   ]
  }
 ],
 "metadata": {
  "kernelspec": {
   "display_name": "Python [conda env:base] *",
   "language": "python",
   "name": "conda-base-py"
  },
  "language_info": {
   "codemirror_mode": {
    "name": "ipython",
    "version": 3
   },
   "file_extension": ".py",
   "mimetype": "text/x-python",
   "name": "python",
   "nbconvert_exporter": "python",
   "pygments_lexer": "ipython3",
   "version": "3.12.7"
  }
 },
 "nbformat": 4,
 "nbformat_minor": 5
}
