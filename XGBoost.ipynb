{
 "cells": [
  {
   "cell_type": "code",
   "execution_count": 1,
   "id": "49b3c4c4-fd95-46a5-bd77-a468473f28e9",
   "metadata": {},
   "outputs": [],
   "source": [
    "# XGBoost"
   ]
  },
  {
   "cell_type": "code",
   "execution_count": 53,
   "id": "d764d16b-4e8b-4de5-bdef-be56cf8d492f",
   "metadata": {},
   "outputs": [],
   "source": [
    "# インポート\n",
    "import numpy as np\n",
    "import pandas as pd\n",
    "from sklearn.model_selection import train_test_split\n",
    "from sklearn.preprocessing import LabelEncoder\n",
    "import xgboost as xgb\n",
    "from sklearn.metrics import mean_squared_error, r2_score, accuracy_score, precision_score, recall_score, f1_score"
   ]
  },
  {
   "cell_type": "code",
   "execution_count": 31,
   "id": "57b00ec3-05c0-44ce-9a9b-61ed34c18e47",
   "metadata": {},
   "outputs": [],
   "source": [
    "# CSVファイルの読み込み\n",
    "df = pd.read_csv('data.csv', encoding='cp932')"
   ]
  },
  {
   "cell_type": "code",
   "execution_count": null,
   "id": "235e9a2e-53e4-4c54-926c-6eaafd80b6eb",
   "metadata": {},
   "outputs": [],
   "source": [
    "# 回帰の場合→XGBRegressorを使う"
   ]
  },
  {
   "cell_type": "code",
   "execution_count": 41,
   "id": "3547a5f0-0df9-4ca7-86a0-ff007c213803",
   "metadata": {},
   "outputs": [
    {
     "name": "stdout",
     "output_type": "stream",
     "text": [
      "RMSE: 1.9586\n",
      "R^2 Score: 0.2692\n"
     ]
    }
   ],
   "source": [
    "# 説明変数\n",
    "x = df[[\"差_直近タイム指数平均1_レース平均値\", \"騎手複勝率\", \"条件複勝率2\", \"条件複勝率4\"]]\n",
    "# 目的変数\n",
    "y = df[\"着番\"]\n",
    "# 学習データと検証データの分割（検証データ割合が0.488）\n",
    "x_train, x_test, y_train, y_test = train_test_split(x, y, train_size=0.488, shuffle=False)\n",
    "# モデルの学習\n",
    "model = xgb.XGBRegressor(objective='reg:squarederror', max_depth=3, random_state=42)\n",
    "model.fit(x_train, y_train)\n",
    "# 予測\n",
    "y_pred = model.predict(x_test)\n",
    "# 評価\n",
    "rmse = np.sqrt(mean_squared_error(y_test, y_pred))\n",
    "r2 = r2_score(y_test, y_pred)\n",
    "print(f\"RMSE: {rmse:.4f}\")\n",
    "print(f\"R^2 Score: {r2:.4f}\")"
   ]
  },
  {
   "cell_type": "code",
   "execution_count": 59,
   "id": "20aef12b-6876-40c6-9791-d27f64e8d105",
   "metadata": {},
   "outputs": [],
   "source": [
    "# 分類の場合→XGBClassifierを使う"
   ]
  },
  {
   "cell_type": "code",
   "execution_count": 61,
   "id": "ee9090fa-9ccf-4f5a-8899-faefdc603711",
   "metadata": {},
   "outputs": [
    {
     "name": "stdout",
     "output_type": "stream",
     "text": [
      "正解率（Accuracy）: 0.6481\n",
      "適合率（Precision）: 0.5983\n",
      "再現率（Recall）: 0.6481\n",
      "F1スコア          : 0.6047\n"
     ]
    }
   ],
   "source": [
    "# 説明変数\n",
    "x = df[[\"差_直近タイム指数平均1_レース平均値\", \"騎手複勝率\", \"条件複勝率2\", \"条件複勝率4\"]]\n",
    "# 目的変数（文字列のまま扱えないのでラベルエンコーディングする）\n",
    "le = LabelEncoder()\n",
    "y = le.fit_transform(df['着番カテゴリ'])\n",
    "# 学習データと検証データの分割（検証データ割合が0.488）\n",
    "x_train, x_test, y_train, y_test = train_test_split(x, y, train_size=0.488, shuffle=False)\n",
    "# モデルの学習\n",
    "model = xgb.XGBClassifier(objective='reg:squarederror', max_depth=3, random_state=42)\n",
    "model.fit(x_train, y_train)\n",
    "# 予測\n",
    "y_pred = model.predict(x_test)\n",
    "# 評価\n",
    "print(f\"正解率（Accuracy）: {accuracy_score(y_test, y_pred):.4f}\")\n",
    "print(f\"適合率（Precision）: {precision_score(y_test, y_pred, average='weighted'):.4f}\")\n",
    "print(f\"再現率（Recall）: {recall_score(y_test, y_pred, average='weighted'):.4f}\")\n",
    "print(f\"F1スコア          : {f1_score(y_test, y_pred, average='weighted'):.4f}\")"
   ]
  }
 ],
 "metadata": {
  "kernelspec": {
   "display_name": "Python [conda env:base] *",
   "language": "python",
   "name": "conda-base-py"
  },
  "language_info": {
   "codemirror_mode": {
    "name": "ipython",
    "version": 3
   },
   "file_extension": ".py",
   "mimetype": "text/x-python",
   "name": "python",
   "nbconvert_exporter": "python",
   "pygments_lexer": "ipython3",
   "version": "3.12.7"
  }
 },
 "nbformat": 4,
 "nbformat_minor": 5
}
