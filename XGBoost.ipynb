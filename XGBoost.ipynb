{
 "cells": [
  {
   "cell_type": "code",
   "execution_count": 1,
   "id": "49b3c4c4-fd95-46a5-bd77-a468473f28e9",
   "metadata": {},
   "outputs": [],
   "source": [
    "# XGBoost"
   ]
  },
  {
   "cell_type": "code",
   "execution_count": 3,
   "id": "d764d16b-4e8b-4de5-bdef-be56cf8d492f",
   "metadata": {},
   "outputs": [],
   "source": [
    "import pandas as pd\n",
    "import xgboost as xgb\n",
    "from sklearn.model_selection import train_test_split\n",
    "from sklearn.metrics import mean_squared_error, r2_score\n",
    "import numpy as np"
   ]
  },
  {
   "cell_type": "code",
   "execution_count": 5,
   "id": "57b00ec3-05c0-44ce-9a9b-61ed34c18e47",
   "metadata": {},
   "outputs": [
    {
     "name": "stdout",
     "output_type": "stream",
     "text": [
      "RMSE: 2.0578\n",
      "R^2 Score: 0.1933\n"
     ]
    }
   ],
   "source": [
    "# CSVファイルの読み込み\n",
    "df = pd.read_csv('data.csv', encoding='cp932')\n",
    "# 説明変数と目的変数の指定\n",
    "x = df[[\"差_直近タイム指数平均1_レース平均値\", \"騎手複勝率\", \"条件複勝率2\", \"条件複勝率4\"]]\n",
    "y = df[\"着番\"]\n",
    "# 学習データと検証データの分割（検証データ割合が0.488）\n",
    "x_train, x_test, y_train, y_test = train_test_split(x, y, train_size=0.488, shuffle=False)\n",
    "# モデルの学習\n",
    "model = xgb.XGBRegressor(objective='reg:squarederror', random_state=42)\n",
    "model.fit(x_train, y_train)\n",
    "# 予測\n",
    "y_pred = model.predict(x_test)\n",
    "# 評価指標の計算\n",
    "rmse = np.sqrt(mean_squared_error(y_test, y_pred))\n",
    "r2 = r2_score(y_test, y_pred)\n",
    "print(f\"RMSE: {rmse:.4f}\")\n",
    "print(f\"R^2 Score: {r2:.4f}\")"
   ]
  }
 ],
 "metadata": {
  "kernelspec": {
   "display_name": "Python [conda env:base] *",
   "language": "python",
   "name": "conda-base-py"
  },
  "language_info": {
   "codemirror_mode": {
    "name": "ipython",
    "version": 3
   },
   "file_extension": ".py",
   "mimetype": "text/x-python",
   "name": "python",
   "nbconvert_exporter": "python",
   "pygments_lexer": "ipython3",
   "version": "3.12.7"
  }
 },
 "nbformat": 4,
 "nbformat_minor": 5
}
