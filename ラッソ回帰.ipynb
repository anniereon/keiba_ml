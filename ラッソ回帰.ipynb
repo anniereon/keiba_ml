{
 "cells": [
  {
   "cell_type": "code",
   "execution_count": 23,
   "id": "11e86412-d491-4f5b-b09f-03518d44ecf8",
   "metadata": {},
   "outputs": [],
   "source": [
    "# ラッソ回帰"
   ]
  },
  {
   "cell_type": "code",
   "execution_count": 1,
   "id": "0d3d25c5-06e6-40c0-9099-af9a3bdebfba",
   "metadata": {},
   "outputs": [],
   "source": [
    "import pandas as pd\n",
    "from sklearn.model_selection import train_test_split\n",
    "from sklearn.linear_model import Lasso\n",
    "from sklearn.metrics import mean_squared_error, r2_score\n",
    "import numpy as np"
   ]
  },
  {
   "cell_type": "code",
   "execution_count": 5,
   "id": "8e5205a4-47fe-464d-be3c-777c6151ca25",
   "metadata": {},
   "outputs": [
    {
     "name": "stdout",
     "output_type": "stream",
     "text": [
      "RMSE: 1.9773\n",
      "R^2 Score: 0.2552\n"
     ]
    }
   ],
   "source": [
    "# CSVファイルの読み込み\n",
    "df = pd.read_csv('data.csv', encoding='cp932')\n",
    "# 説明変数と目的変数の指定\n",
    "x = df[[\"差_直近タイム指数平均1_レース平均値\", \"騎手複勝率\", \"条件複勝率2\", \"条件複勝率4\"]]\n",
    "y = df[\"着番\"]\n",
    "# 学習データと検証データの分割（検証データ割合が0.488）\n",
    "x_train, x_test, y_train, y_test = train_test_split(x, y, test_size=0.488, shuffle=False)\n",
    "# モデルの学習\n",
    "model = Lasso(alpha=1.0, random_state=42)\n",
    "model.fit(x_train, y_train)\n",
    "# 予測\n",
    "y_pred = model.predict(x_test)\n",
    "# 評価\n",
    "rmse = np.sqrt(mean_squared_error(y_test, y_pred))\n",
    "r2 = r2_score(y_test, y_pred)\n",
    "print(f\"RMSE: {rmse:.4f}\")\n",
    "print(f\"R^2 Score: {r2:.4f}\")"
   ]
  }
 ],
 "metadata": {
  "kernelspec": {
   "display_name": "Python [conda env:base] *",
   "language": "python",
   "name": "conda-base-py"
  },
  "language_info": {
   "codemirror_mode": {
    "name": "ipython",
    "version": 3
   },
   "file_extension": ".py",
   "mimetype": "text/x-python",
   "name": "python",
   "nbconvert_exporter": "python",
   "pygments_lexer": "ipython3",
   "version": "3.12.7"
  }
 },
 "nbformat": 4,
 "nbformat_minor": 5
}
