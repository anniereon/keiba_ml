{
 "cells": [
  {
   "cell_type": "code",
   "execution_count": 3,
   "id": "11e86412-d491-4f5b-b09f-03518d44ecf8",
   "metadata": {},
   "outputs": [],
   "source": [
    "# いろいろなエンコーディング"
   ]
  },
  {
   "cell_type": "code",
   "execution_count": 5,
   "id": "0d3d25c5-06e6-40c0-9099-af9a3bdebfba",
   "metadata": {},
   "outputs": [],
   "source": [
    "import pandas as pd\n",
    "from sklearn.model_selection import train_test_split\n",
    "import numpy as np"
   ]
  },
  {
   "cell_type": "code",
   "execution_count": 55,
   "id": "2214bb30-10e1-4ca1-b60e-3285b3fd9932",
   "metadata": {},
   "outputs": [],
   "source": [
    "# CSVファイル\n",
    "df = pd.read_csv('data.csv', encoding='cp932')"
   ]
  },
  {
   "cell_type": "code",
   "execution_count": 57,
   "id": "37ee7c8d-88e5-4791-bebc-1bc36becab23",
   "metadata": {},
   "outputs": [],
   "source": [
    "# One-Hotエンコーディング"
   ]
  },
  {
   "cell_type": "code",
   "execution_count": 63,
   "id": "8e5205a4-47fe-464d-be3c-777c6151ca25",
   "metadata": {},
   "outputs": [
    {
     "name": "stdout",
     "output_type": "stream",
     "text": [
      "  展開予想  展開予想_逃げ  展開予想_先行  展開予想_差し  展開予想_追込\n",
      "0   差し    False    False     True    False\n",
      "1   差し    False    False     True    False\n",
      "2   差し    False    False     True    False\n",
      "3   差し    False    False     True    False\n",
      "4   差し    False    False     True    False\n",
      "5   追込    False    False    False     True\n",
      "6   差し    False    False     True    False\n",
      "7   先行    False     True    False    False\n",
      "8   差し    False    False     True    False\n",
      "9   差し    False    False     True    False\n"
     ]
    }
   ],
   "source": [
    "one_hot_encoded = pd.get_dummies(df[\"展開予想\"], prefix=\"展開予想\")\n",
    "# 元のデータフレームdfに追加する形でdf_onehotを作る\n",
    "df_onehot = pd.concat([df, one_hot_encoded], axis=1)\n",
    "# 追加したカラムの確認\n",
    "print(df_onehot[[\"展開予想\", \"展開予想_逃げ\", \"展開予想_先行\", \"展開予想_差し\", \"展開予想_追込\"]].head(10))"
   ]
  },
  {
   "cell_type": "code",
   "execution_count": 37,
   "id": "359f5a80-75f9-437c-aeb7-f13c48d4bfba",
   "metadata": {},
   "outputs": [],
   "source": [
    "# Targetエンコーディング"
   ]
  },
  {
   "cell_type": "code",
   "execution_count": 69,
   "id": "4a3fd960-bc7b-4a05-82fb-692b98137f4a",
   "metadata": {},
   "outputs": [
    {
     "name": "stdout",
     "output_type": "stream",
     "text": [
      "展開予想\n",
      "先行    3.688421\n",
      "差し    4.330792\n",
      "追込    5.258525\n",
      "逃げ    3.707182\n",
      "Name: 着番, dtype: float64\n",
      "  展開予想  展開予想_target_enc\n",
      "0   差し         4.330792\n",
      "1   差し         4.330792\n",
      "2   差し         4.330792\n",
      "3   差し         4.330792\n",
      "4   差し         4.330792\n",
      "5   追込         5.258525\n",
      "6   差し         4.330792\n",
      "7   先行         3.688421\n",
      "8   差し         4.330792\n",
      "9   差し         4.330792\n"
     ]
    }
   ],
   "source": [
    "# 各展開予想の値について、着番の平均値を求める\n",
    "df_target = df.copy()\n",
    "target_mean = df_target.groupby('展開予想')['着番'].mean()\n",
    "print(target_mean)\n",
    "df_target['展開予想_target_enc'] = df_target['展開予想'].map(target_mean)\n",
    "# 最初の10行を表示して新しいカラムを確認\n",
    "print(df_target[['展開予想', '展開予想_target_enc']].head(10))"
   ]
  }
 ],
 "metadata": {
  "kernelspec": {
   "display_name": "Python [conda env:base] *",
   "language": "python",
   "name": "conda-base-py"
  },
  "language_info": {
   "codemirror_mode": {
    "name": "ipython",
    "version": 3
   },
   "file_extension": ".py",
   "mimetype": "text/x-python",
   "name": "python",
   "nbconvert_exporter": "python",
   "pygments_lexer": "ipython3",
   "version": "3.12.7"
  }
 },
 "nbformat": 4,
 "nbformat_minor": 5
}
